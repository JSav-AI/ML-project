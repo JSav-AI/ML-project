{
 "cells": [
  {
   "cell_type": "code",
   "execution_count": 2,
   "metadata": {},
   "outputs": [],
   "source": [
    "import pandas as pd\n",
    "from scipy.stats import ks_1samp\n",
    "import numpy as np\n",
    "from functools import reduce\n",
    "import re\n",
    "import os\n",
    "from statsmodels.tsa.stattools import acf, adfuller, kpss, ccf\n",
    "from statsmodels.graphics.tsaplots import plot_acf, plot_ccf"
   ]
  },
  {
   "cell_type": "code",
   "execution_count": 3,
   "metadata": {},
   "outputs": [],
   "source": [
    "loc = r\"\"\"C:\\ML-project\\Fantasy-Premier-League\\data\\2024-25\\gws\"\"\"\n",
    "\n",
    "# as there are column errors in the given data, want to aggregate our own gws\n",
    "# do so by joining all the gameweek files on the columns given in gw1 (for consistency)\n",
    "# then we add a new column indicating which gameweek the data is from\n",
    "dir = os.listdir(os.path.abspath(loc))\n",
    "\n",
    "# sort all files whih are gameweek, then take cols from gw1 and store\n",
    "gws = sorted(pd.Series(dir)[[i[:2]==\"gw\" for i in dir]])\n",
    "int_gws = list(map(int, re.findall(r\"\\d+\",\" \".join(gws))))\n",
    "cols = pd.read_csv(os.path.join(loc, gws[0])).columns.to_list()\n",
    "\n",
    "# create list of all csvs containnig only the columns from the first week of data \n",
    "lst_gws = []\n",
    "for idx, file in enumerate(gws):\n",
    "    df_tmp = pd.read_csv(os.path.join(loc,file))[cols] \n",
    "    df_tmp['GW'] = int_gws[idx]\n",
    "    lst_gws.append(df_tmp)\n",
    "\n",
    "season = pd.concat( lst_gws, axis = 0).sort_values(['GW', 'team', 'name']).reset_index(drop = True)\n"
   ]
  },
  {
   "cell_type": "code",
   "execution_count": 4,
   "metadata": {},
   "outputs": [],
   "source": [
    "season.to_csv(os.path.join(loc, \"2024_25_merged_clean.csv\"))"
   ]
  }
 ],
 "metadata": {
  "kernelspec": {
   "display_name": "Python 3",
   "language": "python",
   "name": "python3"
  },
  "language_info": {
   "codemirror_mode": {
    "name": "ipython",
    "version": 3
   },
   "file_extension": ".py",
   "mimetype": "text/x-python",
   "name": "python",
   "nbconvert_exporter": "python",
   "pygments_lexer": "ipython3",
   "version": "3.8.10"
  }
 },
 "nbformat": 4,
 "nbformat_minor": 2
}
